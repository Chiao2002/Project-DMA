{
 "cells": [
  {
   "cell_type": "code",
   "execution_count": 1,
   "metadata": {},
   "outputs": [
    {
     "data": {
      "application/javascript": [
       "\n",
       "require(['notebook/js/codecell'], function(codecell) {\n",
       "  codecell.CodeCell.options_default.highlight_modes[\n",
       "      'magic_text/x-csrc'] = {'reg':[/^%%microblaze/]};\n",
       "  Jupyter.notebook.events.one('kernel_ready.Kernel', function(){\n",
       "      Jupyter.notebook.get_cells().map(function(cell){\n",
       "          if (cell.cell_type == 'code'){ cell.auto_highlight(); } }) ;\n",
       "  });\n",
       "});\n"
      ]
     },
     "metadata": {},
     "output_type": "display_data"
    }
   ],
   "source": [
    "from pynq import Overlay\n",
    "from pynq import Xlnk\n",
    "from pynq.lib import AxiGPIO\n",
    "import numpy as np\n",
    "# import pynq.lib.dma\n",
    "import time\n",
    "# import math\n",
    "import matplotlib.pyplot as plt\n",
    "\n",
    "mask = 0xffffffff\n",
    "xlnk = Xlnk()"
   ]
  },
  {
   "cell_type": "code",
   "execution_count": 2,
   "metadata": {},
   "outputs": [],
   "source": [
    "ol = Overlay('./project_dma_mux_cnt.bit')"
   ]
  },
  {
   "cell_type": "code",
   "execution_count": 3,
   "metadata": {},
   "outputs": [],
   "source": [
    "# DMA\n",
    "dma = ol.axi_dma_0\n",
    "\n",
    "# AXI GPIO\n",
    "gpio_resetn_ip = ol.ip_dict['axi_gpio_resetn']\n",
    "rx_rstn = AxiGPIO(gpio_resetn_ip).channel1\n",
    "\n",
    "gpio_mux_ip = ol.ip_dict['axi_gpio_mux']\n",
    "mux_sel = AxiGPIO(gpio_mux_ip).channel1\n",
    "\n",
    "gpio_capture_ip = ol.ip_dict['DataPath/R_GPIO_group/axi_gpio_capture']\n",
    "channel_sw = AxiGPIO(gpio_capture_ip).channel1\n",
    "last_cnt = AxiGPIO(gpio_capture_ip).channel2"
   ]
  },
  {
   "cell_type": "code",
   "execution_count": 4,
   "metadata": {},
   "outputs": [
    {
     "name": "stdout",
     "output_type": "stream",
     "text": [
      "Reset state: 0\n",
      "Mux state 0\n",
      "Channel off state: 0\n",
      "Capture size default: 4096\n"
     ]
    }
   ],
   "source": [
    "print('Reset state:', rx_rstn.read())\n",
    "print('Mux state', mux_sel.read())\n",
    "print('Channel off state:', channel_sw.read())\n",
    "print('Capture size default:', last_cnt.read())"
   ]
  },
  {
   "cell_type": "code",
   "execution_count": null,
   "metadata": {},
   "outputs": [],
   "source": [
    "def Cpature_size(Number: int, last_cnt):\n",
    "    last_cnt.write(Number, mask)\n",
    "    print(\"Capture size:\", last_cnt.read())"
   ]
  },
  {
   "cell_type": "code",
   "execution_count": null,
   "metadata": {},
   "outputs": [],
   "source": [
    "dma.recvchannel._mmio.write(0x30, 0x0004) #soft reset\n",
    "dma.recvchannel.start()\n",
    "dma.sendchannel.start()"
   ]
  },
  {
   "cell_type": "markdown",
   "metadata": {},
   "source": [
    "# FROM DMA"
   ]
  },
  {
   "cell_type": "code",
   "execution_count": 5,
   "metadata": {},
   "outputs": [
    {
     "name": "stdout",
     "output_type": "stream",
     "text": [
      "71\n"
     ]
    }
   ],
   "source": [
    "Data = ' National Central University\\n Department of Communication Engineering\\n '\n",
    "chars = [ord(c) for c in Data]  # ord() => return ascii code\n",
    "buf_size = len(chars)\n",
    "print(buf_size)"
   ]
  },
  {
   "cell_type": "code",
   "execution_count": 6,
   "metadata": {},
   "outputs": [
    {
     "name": "stdout",
     "output_type": "stream",
     "text": [
      "Capture size: 71\n",
      "[ 32  78  97 116 105 111 110  97 108  32  67 101 110 116 114  97 108  32\n",
      "  85 110 105 118 101 114 115 105 116 121  10  32  68 101 112  97 114 116\n",
      " 109 101 110 116  32 111 102  32  67 111 109 109 117 110]\n"
     ]
    }
   ],
   "source": [
    "channel_sw.write(0x0, mask)\n",
    "rx_rstn.write(0x0, mask)\n",
    "rx_rstn.write(0x1, mask)\n",
    "mux_sel.write(0x0, mask)\n",
    "\n",
    "CaptureNumber = buf_size\n",
    "last_cnt.write(CaptureNumber, mask)\n",
    "print('Capture size:', last_cnt.read())\n",
    "\n",
    "output_buffer = xlnk.cma_array(shape=(CaptureNumber,), dtype=np.uint32)\n",
    "dma.recvchannel.transfer(output_buffer)\n",
    "\n",
    "channel_sw.write(0x1, mask)  #channel on\n",
    "input_buffer = xlnk.cma_array(shape=(buf_size,), dtype=np.uint32)\n",
    "input_buffer[:] = chars\n",
    "print(input_buffer[0:50])\n",
    "dma.sendchannel.transfer(input_buffer)\n",
    "dma.sendchannel.wait()\n",
    "\n",
    "\n",
    "dma.recvchannel.wait()\n",
    "channel_sw.write(0x0, mask)  #channel off"
   ]
  },
  {
   "cell_type": "code",
   "execution_count": 7,
   "metadata": {},
   "outputs": [
    {
     "name": "stdout",
     "output_type": "stream",
     "text": [
      "<class 'pynq.xlnk.ContiguousArray'>\n",
      "[ 32  78  97 116 105 111 110  97 108  32  67 101 110 116 114  97 108  32\n",
      "  85 110 105 118 101 114 115 105 116 121  10  32  68 101 112  97 114 116\n",
      " 109 101 110 116  32 111 102  32  67 111 109 109 117 110 105  99  97 116\n",
      " 105 111 110  32  69 110 103 105 110 101 101 114 105 110 103  10  32]\n"
     ]
    }
   ],
   "source": [
    "print(type(output_buffer))\n",
    "print(output_buffer)"
   ]
  },
  {
   "cell_type": "code",
   "execution_count": 8,
   "metadata": {},
   "outputs": [
    {
     "name": "stdout",
     "output_type": "stream",
     "text": [
      " National Central University\n",
      " Department of Communication Engineering\n",
      " \n",
      "<class 'str'>\n"
     ]
    }
   ],
   "source": [
    "back_data = [chr(s) for s in output_buffer]\n",
    "back_data_str = \"\".join(back_data)\n",
    "print(back_data_str)\n",
    "print(type(back_data_str))"
   ]
  },
  {
   "cell_type": "markdown",
   "metadata": {},
   "source": [
    "# Input: Counter (hardware)"
   ]
  },
  {
   "cell_type": "code",
   "execution_count": 9,
   "metadata": {},
   "outputs": [
    {
     "name": "stdout",
     "output_type": "stream",
     "text": [
      "Capture size: 4096\n"
     ]
    }
   ],
   "source": [
    "channel_sw.write(0x0, mask)\n",
    "rx_rstn.write(0x0, mask)\n",
    "rx_rstn.write(0x1, mask)\n",
    "mux_sel.write(0x1, mask)\n",
    "\n",
    "CaptureNumber = 2**12\n",
    "last_cnt.write(CaptureNumber, mask)\n",
    "print('Capture size:', last_cnt.read())\n",
    "\n",
    "output_buffer = xlnk.cma_array(shape=(CaptureNumber,), dtype=np.uint32)\n",
    "dma.recvchannel.transfer(output_buffer)\n",
    "\n",
    "channel_sw.write(0x1, mask)  #channel on\n",
    "\n",
    "\n",
    "dma.recvchannel.wait()\n",
    "channel_sw.write(0x0, mask)  #channel off"
   ]
  },
  {
   "cell_type": "code",
   "execution_count": 10,
   "metadata": {},
   "outputs": [
    {
     "name": "stdout",
     "output_type": "stream",
     "text": [
      "[2648895281 2648895282 2648895283 2648895284 2648895285 2648895286\n",
      " 2648895287 2648895288 2648895289 2648895290 2648895291 2648895292\n",
      " 2648895293 2648895294 2648895295 2648895296 2648895297 2648895298\n",
      " 2648895299 2648895300 2648895301 2648895302 2648895303 2648895304\n",
      " 2648895305 2648895306 2648895307 2648895308 2648895309 2648895310\n",
      " 2648895311 2648895312 2648895313 2648895314 2648895315 2648895316\n",
      " 2648895317 2648895318 2648895319 2648895320 2648895321 2648895322\n",
      " 2648895323 2648895324 2648895325 2648895326 2648895327 2648895328\n",
      " 2648895329]\n"
     ]
    }
   ],
   "source": [
    "print(output_buffer[1:50])"
   ]
  },
  {
   "cell_type": "code",
   "execution_count": null,
   "metadata": {},
   "outputs": [],
   "source": []
  }
 ],
 "metadata": {
  "kernelspec": {
   "display_name": "Python 3",
   "language": "python",
   "name": "python3"
  },
  "language_info": {
   "codemirror_mode": {
    "name": "ipython",
    "version": 3
   },
   "file_extension": ".py",
   "mimetype": "text/x-python",
   "name": "python",
   "nbconvert_exporter": "python",
   "pygments_lexer": "ipython3",
   "version": "3.6.5"
  }
 },
 "nbformat": 4,
 "nbformat_minor": 2
}
